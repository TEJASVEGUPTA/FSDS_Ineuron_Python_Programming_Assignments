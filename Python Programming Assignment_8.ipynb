{
 "cells": [
  {
   "cell_type": "markdown",
   "id": "3adf6e53",
   "metadata": {},
   "source": [
    "## 1. Write a Python Program to Add two Matrices ?"
   ]
  },
  {
   "cell_type": "code",
   "execution_count": 1,
   "id": "5ebf0e48",
   "metadata": {},
   "outputs": [
    {
     "name": "stdout",
     "output_type": "stream",
     "text": [
      "[17, 15, 4]\n",
      "[10, 12, 9]\n",
      "[11, 13, 18]\n"
     ]
    }
   ],
   "source": [
    "X = [[12,7,3],\n",
    "    [4 ,5,6],\n",
    "    [7 ,8,9]]\n",
    "\n",
    "Y = [[5,8,1],\n",
    "    [6,7,3],\n",
    "    [4,5,9]]\n",
    "\n",
    "result = [[0,0,0],\n",
    "         [0,0,0],\n",
    "         [0,0,0]]\n",
    "\n",
    "# iterate through rows\n",
    "for i in range(len(X)):\n",
    "   # iterate through columns\n",
    "   for j in range(len(X[0])):\n",
    "       result[i][j] = X[i][j] + Y[i][j]\n",
    "\n",
    "for r in result:\n",
    "   print(r)"
   ]
  },
  {
   "cell_type": "markdown",
   "id": "43318a65",
   "metadata": {},
   "source": [
    "## 2. Write a Python Program to Multiply two Matrices ?"
   ]
  },
  {
   "cell_type": "code",
   "execution_count": 2,
   "id": "acfebdb7",
   "metadata": {},
   "outputs": [
    {
     "name": "stdout",
     "output_type": "stream",
     "text": [
      "[60, 56, 3]\n",
      "[24, 35, 18]\n",
      "[28, 40, 81]\n"
     ]
    }
   ],
   "source": [
    "X = [[12,7,3],\n",
    "    [4 ,5,6],\n",
    "    [7 ,8,9]]\n",
    "\n",
    "Y = [[5,8,1],\n",
    "    [6,7,3],\n",
    "    [4,5,9]]\n",
    "\n",
    "result = [[0,0,0],\n",
    "         [0,0,0],\n",
    "         [0,0,0]]\n",
    "\n",
    "for i in range(len(X)):\n",
    "   for j in range(len(X[0])):\n",
    "       result[i][j] = X[i][j] * Y[i][j]\n",
    "\n",
    "for r in result:\n",
    "   print(r)"
   ]
  },
  {
   "cell_type": "markdown",
   "id": "450392bb",
   "metadata": {},
   "source": [
    "## 3. Write a Python Program to transpose a Matrix ?"
   ]
  },
  {
   "cell_type": "code",
   "execution_count": 3,
   "id": "fbee065a",
   "metadata": {},
   "outputs": [
    {
     "name": "stdout",
     "output_type": "stream",
     "text": [
      "[[1, 2, 3], [4, 5, 6], [7, 8, 9]] -> [[1, 4, 7], [2, 5, 8], [3, 6, 9]]\n",
      "[[1, 2], [4, 5], [7, 8]] -> [[1, 4, 7], [2, 5, 8]]\n",
      "[[1, 2, 3], [4, 5, 6]] -> [[1, 4], [2, 5], [3, 6]]\n"
     ]
    }
   ],
   "source": [
    "a = [[1,2,3],[4,5,6],[7,8,9]]\n",
    "b = [[1,2],[4,5],[7,8]]\n",
    "c = [[1,2,3],[4,5,6]]\n",
    "\n",
    "def generate_transpose(in_matrix):\n",
    "    out_matrix = []\n",
    "    for ele in range(len(in_matrix[0])):\n",
    "        out_matrix.append([0 for i in range(len(in_matrix))])\n",
    "    for i in range(len(in_matrix)):\n",
    "        for j in range(len(in_matrix[i])):\n",
    "            out_matrix[j][i] = in_matrix[i][j]\n",
    "    print(f'{in_matrix} -> {out_matrix}')\n",
    "        \n",
    "generate_transpose(a)\n",
    "generate_transpose(b)\n",
    "generate_transpose(c)\n"
   ]
  },
  {
   "cell_type": "markdown",
   "id": "ae248486",
   "metadata": {},
   "source": [
    "## 4. Write a Python Program to sort Words in an Alphabatical Order ?"
   ]
  },
  {
   "cell_type": "code",
   "execution_count": 4,
   "id": "ffbe5c90",
   "metadata": {},
   "outputs": [
    {
     "name": "stdout",
     "output_type": "stream",
     "text": [
      "Enter a String: Full Stack Data Science BootCamp2.0\n",
      "Bootcamp2.0 Data Full Science Stack\n"
     ]
    }
   ],
   "source": [
    "def sortString():\n",
    "    in_string = input(\"Enter a String: \").title()\n",
    "    sorted_list = sorted(in_string.split(' '))\n",
    "    print(' '.join(sorted_list))\n",
    "\n",
    "sortString()"
   ]
  },
  {
   "cell_type": "markdown",
   "id": "932bfdc2",
   "metadata": {},
   "source": [
    "## 5. Write a Python Program to remove Punctuations From a String ?"
   ]
  },
  {
   "cell_type": "code",
   "execution_count": 6,
   "id": "9cf582d0",
   "metadata": {},
   "outputs": [
    {
     "name": "stdout",
     "output_type": "stream",
     "text": [
      "Enter a String: Full Stack Data @ Science BootCamp2.0\n",
      "Full Stack Data  Science BootCamp20\n"
     ]
    }
   ],
   "source": [
    "def removePunctuatuions():\n",
    "    punctuations = '''!()-[]{};:'\"\\,<>./?@#$%^&*_~'''\n",
    "    in_string = input('Enter a String: ')\n",
    "    out_string = ''\n",
    "    for ele in in_string:\n",
    "        if ele not in punctuations:\n",
    "            out_string += ele\n",
    "    print(out_string)\n",
    "    \n",
    "removePunctuatuions()"
   ]
  },
  {
   "cell_type": "code",
   "execution_count": null,
   "id": "7159e36b",
   "metadata": {},
   "outputs": [],
   "source": []
  }
 ],
 "metadata": {
  "kernelspec": {
   "display_name": "Python 3 (ipykernel)",
   "language": "python",
   "name": "python3"
  },
  "language_info": {
   "codemirror_mode": {
    "name": "ipython",
    "version": 3
   },
   "file_extension": ".py",
   "mimetype": "text/x-python",
   "name": "python",
   "nbconvert_exporter": "python",
   "pygments_lexer": "ipython3",
   "version": "3.9.7"
  }
 },
 "nbformat": 4,
 "nbformat_minor": 5
}
